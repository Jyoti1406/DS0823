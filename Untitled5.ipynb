{
 "cells": [
  {
   "cell_type": "code",
   "execution_count": 2,
   "id": "fb67662b",
   "metadata": {},
   "outputs": [
    {
     "data": {
      "text/plain": [
       "[1000, 2000, 3000]"
      ]
     },
     "execution_count": 2,
     "metadata": {},
     "output_type": "execute_result"
    }
   ],
   "source": [
    "employee_salary = [1000,2000,3000]\n",
    "employee_salary"
   ]
  },
  {
   "cell_type": "code",
   "execution_count": 15,
   "id": "648bc321",
   "metadata": {},
   "outputs": [],
   "source": [
    "employee_salary.append(8500)"
   ]
  },
  {
   "cell_type": "code",
   "execution_count": 16,
   "id": "8949d1bf",
   "metadata": {},
   "outputs": [
    {
     "data": {
      "text/plain": [
       "[1000, 2000, 1500, 1500, 1500, 5000, 3000, 4000, 8500]"
      ]
     },
     "execution_count": 16,
     "metadata": {},
     "output_type": "execute_result"
    }
   ],
   "source": [
    "employee_salary"
   ]
  },
  {
   "cell_type": "code",
   "execution_count": 11,
   "id": "cd4e49ab",
   "metadata": {},
   "outputs": [],
   "source": [
    "employee_salary.append(4000)"
   ]
  },
  {
   "cell_type": "code",
   "execution_count": 13,
   "id": "2fd86c65",
   "metadata": {},
   "outputs": [],
   "source": [
    "employee_salary.insert(5,5000)"
   ]
  },
  {
   "cell_type": "code",
   "execution_count": null,
   "id": "0bf12807",
   "metadata": {},
   "outputs": [],
   "source": [
    "emplo"
   ]
  }
 ],
 "metadata": {
  "kernelspec": {
   "display_name": "Python 3 (ipykernel)",
   "language": "python",
   "name": "python3"
  },
  "language_info": {
   "codemirror_mode": {
    "name": "ipython",
    "version": 3
   },
   "file_extension": ".py",
   "mimetype": "text/x-python",
   "name": "python",
   "nbconvert_exporter": "python",
   "pygments_lexer": "ipython3",
   "version": "3.11.4"
  }
 },
 "nbformat": 4,
 "nbformat_minor": 5
}
