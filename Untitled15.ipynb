{
 "cells": [
  {
   "cell_type": "code",
   "execution_count": 35,
   "id": "ece0d561",
   "metadata": {},
   "outputs": [
    {
     "data": {
      "text/plain": [
       "{'emp_id1': [11, 12, 13, 14, 15],\n",
       " 'name': ['Rao', 'Rai', 'Pradhan', 'Sinha', 'Singh'],\n",
       " 'Salary': [15000, 16000, 17000, 14000, 18000]}"
      ]
     },
     "execution_count": 35,
     "metadata": {},
     "output_type": "execute_result"
    }
   ],
   "source": [
    "# my dictionary\n",
    "my_dict = {'emp_id1':[11,12,13,14,15],'name':['Rao','Rai','Pradhan','Sinha','Singh'],'Salary':[15000,16000,17000,14000,18000]}\n",
    "my_dict"
   ]
  },
  {
   "cell_type": "code",
   "execution_count": 18,
   "id": "5ac92cbb",
   "metadata": {},
   "outputs": [
    {
     "data": {
      "text/plain": [
       "'RAI'"
      ]
     },
     "execution_count": 18,
     "metadata": {},
     "output_type": "execute_result"
    }
   ],
   "source": [
    "my_dict['name'][1].upper()"
   ]
  },
  {
   "cell_type": "code",
   "execution_count": 25,
   "id": "42055cd6",
   "metadata": {},
   "outputs": [
    {
     "data": {
      "text/plain": [
       "[15000, 16000, 17000, 14000, 18000]"
      ]
     },
     "execution_count": 25,
     "metadata": {},
     "output_type": "execute_result"
    }
   ],
   "source": [
    "my_dict['Salary']"
   ]
  },
  {
   "cell_type": "code",
   "execution_count": 27,
   "id": "0022cef9",
   "metadata": {},
   "outputs": [
    {
     "data": {
      "text/plain": [
       "{'emp_id1': [11, 12, 13, 14, 15],\n",
       " 'name': ['Rao', 'Rai', 'Pradhan', 'Sinha', 'Singh'],\n",
       " 'Salary': [15000, 26000, 17000, 14000, 18000]}"
      ]
     },
     "execution_count": 27,
     "metadata": {},
     "output_type": "execute_result"
    }
   ],
   "source": [
    "my_dict['Salary'][1]=my_dict['Salary'][1] + 5000\n",
    "my_dict"
   ]
  },
  {
   "cell_type": "code",
   "execution_count": 38,
   "id": "35060ce9",
   "metadata": {},
   "outputs": [
    {
     "data": {
      "text/plain": [
       "[15000, 16000, 17000, 14000, 18000]"
      ]
     },
     "execution_count": 38,
     "metadata": {},
     "output_type": "execute_result"
    }
   ],
   "source": [
    "my_dict['Salary']"
   ]
  },
  {
   "cell_type": "code",
   "execution_count": 40,
   "id": "9cb60d07",
   "metadata": {},
   "outputs": [
    {
     "data": {
      "text/plain": [
       "[15000, 16000, 17000, 14000, 24000]"
      ]
     },
     "execution_count": 40,
     "metadata": {},
     "output_type": "execute_result"
    }
   ],
   "source": [
    "my_dict['Salary'][4] += 3000\n",
    "my_dict['Salary']"
   ]
  },
  {
   "cell_type": "code",
   "execution_count": 41,
   "id": "e0f5e4c5",
   "metadata": {},
   "outputs": [
    {
     "data": {
      "text/plain": [
       "{'emp_id1': [11, 12, 13, 14, 15],\n",
       " 'name': ['Rao', 'Rai', 'Pradhan', 'Sinha', 'Singh'],\n",
       " 'Salary': [15000, 16000, 17000, 14000, 24000],\n",
       " 'Dept': ['SI', 'Acc']}"
      ]
     },
     "execution_count": 41,
     "metadata": {},
     "output_type": "execute_result"
    }
   ],
   "source": [
    "my_dict['Dept'] = ['SI','Acc']\n",
    "my_dict"
   ]
  },
  {
   "cell_type": "code",
   "execution_count": 59,
   "id": "42f68fcb",
   "metadata": {},
   "outputs": [
    {
     "ename": "SyntaxError",
     "evalue": "':' expected after dictionary key (1626768784.py, line 1)",
     "output_type": "error",
     "traceback": [
      "\u001b[1;36m  Cell \u001b[1;32mIn[59], line 1\u001b[1;36m\u001b[0m\n\u001b[1;33m    my_dict.update({'name':'Rao','Rai','Pradhan','Kimar'})\u001b[0m\n\u001b[1;37m                                     ^\u001b[0m\n\u001b[1;31mSyntaxError\u001b[0m\u001b[1;31m:\u001b[0m ':' expected after dictionary key\n"
     ]
    }
   ],
   "source": [
    "my_dict.update({'name':'Rao','Rai','Pradhan','Kimar'})\n",
    "my_dict"
   ]
  },
  {
   "cell_type": "code",
   "execution_count": 48,
   "id": "ed4c4f6b",
   "metadata": {},
   "outputs": [
    {
     "data": {
      "text/plain": [
       "'Kumar'"
      ]
     },
     "execution_count": 48,
     "metadata": {},
     "output_type": "execute_result"
    }
   ],
   "source": [
    "my_dict['name']"
   ]
  },
  {
   "cell_type": "code",
   "execution_count": 51,
   "id": "7ca32225",
   "metadata": {},
   "outputs": [
    {
     "data": {
      "text/plain": [
       "{'emp_id1': [11, 12, 13, 14, 15],\n",
       " 'name': 'Kumar',\n",
       " 'Salary': [15000, 16000, 17000, 14000, 24000],\n",
       " 'Dept': ['SI', 'Acc']}"
      ]
     },
     "execution_count": 51,
     "metadata": {},
     "output_type": "execute_result"
    }
   ],
   "source": [
    "my_dict"
   ]
  },
  {
   "cell_type": "code",
   "execution_count": 53,
   "id": "223104f5",
   "metadata": {},
   "outputs": [
    {
     "data": {
      "text/plain": [
       "dict_keys(['emp_id1', 'name', 'Salary', 'Dept'])"
      ]
     },
     "execution_count": 53,
     "metadata": {},
     "output_type": "execute_result"
    }
   ],
   "source": [
    "my_dict.keys()"
   ]
  },
  {
   "cell_type": "code",
   "execution_count": 54,
   "id": "45347e59",
   "metadata": {},
   "outputs": [
    {
     "data": {
      "text/plain": [
       "dict_values([[11, 12, 13, 14, 15], 'Kumar', [15000, 16000, 17000, 14000, 24000], ['SI', 'Acc']])"
      ]
     },
     "execution_count": 54,
     "metadata": {},
     "output_type": "execute_result"
    }
   ],
   "source": [
    "my_dict.values()"
   ]
  },
  {
   "cell_type": "code",
   "execution_count": 56,
   "id": "3300f42c",
   "metadata": {},
   "outputs": [
    {
     "data": {
      "text/plain": [
       "dict_items([('emp_id1', [11, 12, 13, 14, 15]), ('name', 'Kumar'), ('Salary', [15000, 16000, 17000, 14000, 24000]), ('Dept', ['SI', 'Acc'])])"
      ]
     },
     "execution_count": 56,
     "metadata": {},
     "output_type": "execute_result"
    }
   ],
   "source": [
    "my_dict.items()"
   ]
  },
  {
   "cell_type": "code",
   "execution_count": null,
   "id": "9ceedd76",
   "metadata": {},
   "outputs": [],
   "source": []
  }
 ],
 "metadata": {
  "kernelspec": {
   "display_name": "Python 3 (ipykernel)",
   "language": "python",
   "name": "python3"
  },
  "language_info": {
   "codemirror_mode": {
    "name": "ipython",
    "version": 3
   },
   "file_extension": ".py",
   "mimetype": "text/x-python",
   "name": "python",
   "nbconvert_exporter": "python",
   "pygments_lexer": "ipython3",
   "version": "3.11.4"
  }
 },
 "nbformat": 4,
 "nbformat_minor": 5
}
