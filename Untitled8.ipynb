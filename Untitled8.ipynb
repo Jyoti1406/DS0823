{
 "cells": [
  {
   "cell_type": "code",
   "execution_count": 3,
   "id": "666b50e5",
   "metadata": {},
   "outputs": [
    {
     "name": "stdout",
     "output_type": "stream",
     "text": [
      "['jsr', 'ranchi', 'patna']\n"
     ]
    }
   ],
   "source": [
    "location = ['jsr', 'ranchi','patna']\n",
    "print (location)"
   ]
  },
  {
   "cell_type": "code",
   "execution_count": 9,
   "id": "1134481f",
   "metadata": {},
   "outputs": [
    {
     "name": "stdout",
     "output_type": "stream",
     "text": [
      "['jsr', 'ranchi', 'patna', 'mango']\n"
     ]
    }
   ],
   "source": [
    "location = ['jsr', 'ranchi','patna','mango']\n",
    "print (location)"
   ]
  },
  {
   "cell_type": "code",
   "execution_count": 10,
   "id": "32a2c0ef",
   "metadata": {},
   "outputs": [
    {
     "name": "stdout",
     "output_type": "stream",
     "text": [
      "jsr\n",
      "ranchi\n",
      "dhanbad\n",
      "bokaro\n",
      "goda\n"
     ]
    }
   ],
   "source": [
    "location = ['jsr','ranchi','dhanbad','bokaro','goda']\n",
    "for city in location:\n",
    "    print (city)"
   ]
  },
  {
   "cell_type": "code",
   "execution_count": 11,
   "id": "f7441401",
   "metadata": {},
   "outputs": [
    {
     "name": "stdout",
     "output_type": "stream",
     "text": [
      "jsr\n",
      "ranchi\n",
      "dhanbad\n",
      "bokaro\n",
      "goda\n"
     ]
    }
   ],
   "source": [
    "location = ['jsr','ranchi','dhanbad','bokaro','goda']\n",
    "for town in location:\n",
    "    print (town)"
   ]
  },
  {
   "cell_type": "code",
   "execution_count": 17,
   "id": "16eab8c7",
   "metadata": {},
   "outputs": [
    {
     "name": "stdout",
     "output_type": "stream",
     "text": [
      "50000\n",
      "45000\n"
     ]
    }
   ],
   "source": [
    "salary = [1000,2000,3000,4000,50000,45000]\n",
    "for val in salary:\n",
    "    if val > 20000:\n",
    "        print (val)\n",
    "       "
   ]
  },
  {
   "cell_type": "code",
   "execution_count": 12,
   "id": "29385538",
   "metadata": {},
   "outputs": [
    {
     "ename": "IndentationError",
     "evalue": "unindent does not match any outer indentation level (<tokenize>, line 10)",
     "output_type": "error",
     "traceback": [
      "\u001b[1;36m  File \u001b[1;32m<tokenize>:10\u001b[1;36m\u001b[0m\n\u001b[1;33m    print (marks, '- second class')\u001b[0m\n\u001b[1;37m    ^\u001b[0m\n\u001b[1;31mIndentationError\u001b[0m\u001b[1;31m:\u001b[0m unindent does not match any outer indentation level\n"
     ]
    }
   ],
   "source": [
    "\n",
    "                    \n",
    "                \n",
    "                \n",
    "                \n",
    "            \n",
    "            \n",
    "            \n",
    "       \n",
    "            \n",
    "            \n",
    "        \n",
    "    "
   ]
  },
  {
   "cell_type": "code",
   "execution_count": 13,
   "id": "887b0590",
   "metadata": {},
   "outputs": [],
   "source": [
    "student_score = [30,40,50,88,65,99,55,65,10,71,69,49,30]\n"
   ]
  },
  {
   "cell_type": "code",
   "execution_count": 14,
   "id": "d1afc05e",
   "metadata": {},
   "outputs": [
    {
     "name": "stdout",
     "output_type": "stream",
     "text": [
      "[30, 40, 50, 88, 65, 99, 55, 65, 10, 71, 69, 49, 30]\n"
     ]
    }
   ],
   "source": [
    "print(student_score)"
   ]
  },
  {
   "cell_type": "code",
   "execution_count": 1,
   "id": "fc550d73",
   "metadata": {},
   "outputs": [
    {
     "ename": "SyntaxError",
     "evalue": "invalid syntax (713197409.py, line 7)",
     "output_type": "error",
     "traceback": [
      "\u001b[1;36m  Cell \u001b[1;32mIn[1], line 7\u001b[1;36m\u001b[0m\n\u001b[1;33m    elif marks >= 60:\u001b[0m\n\u001b[1;37m    ^\u001b[0m\n\u001b[1;31mSyntaxError\u001b[0m\u001b[1;31m:\u001b[0m invalid syntax\n"
     ]
    }
   ],
   "source": [
    "for marks in student_score:\n",
    "    if marks >= 70:\n",
    "        print(marks , 'distinsction' )\n",
    "    else:\n",
    "        print(marks , 'first class')\n",
    "        \n",
    "    elif marks >= 60:\n",
    "        print(marks , 'AA')"
   ]
  },
  {
   "cell_type": "code",
   "execution_count": null,
   "id": "bd6ea3bb",
   "metadata": {},
   "outputs": [],
   "source": []
  },
  {
   "cell_type": "code",
   "execution_count": null,
   "id": "9609f0ff",
   "metadata": {},
   "outputs": [],
   "source": []
  }
 ],
 "metadata": {
  "kernelspec": {
   "display_name": "Python 3 (ipykernel)",
   "language": "python",
   "name": "python3"
  },
  "language_info": {
   "codemirror_mode": {
    "name": "ipython",
    "version": 3
   },
   "file_extension": ".py",
   "mimetype": "text/x-python",
   "name": "python",
   "nbconvert_exporter": "python",
   "pygments_lexer": "ipython3",
   "version": "3.11.4"
  }
 },
 "nbformat": 4,
 "nbformat_minor": 5
}
