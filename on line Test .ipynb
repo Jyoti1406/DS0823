{
 "cells": [
  {
   "cell_type": "code",
   "execution_count": 13,
   "id": "b3e3aed0",
   "metadata": {},
   "outputs": [],
   "source": [
    "sampledict = {\n",
    "    \"countery\":{\n",
    "        \"indian team\": {\n",
    "        \"Name\":[\"Rohit\",\"Rahul\",\"Mahi\",\"Bumrah\",\"Sachin\"],\n",
    "            \"Runs\":{\n",
    "                \"Rohit\" : 55,\n",
    "                \"Mahi\" : 99,\n",
    "                \"Sachin\":85\n",
    "            }\n",
    "        }\n",
    "    }\n",
    "}\n",
    "        "
   ]
  },
  {
   "cell_type": "code",
   "execution_count": 11,
   "id": "b114f73f",
   "metadata": {},
   "outputs": [
    {
     "name": "stdout",
     "output_type": "stream",
     "text": [
      "85\n"
     ]
    }
   ],
   "source": [
    "print(sampledict[\"countery\"][\"indian team\"][\"Runs\"][\"Sachin\"])"
   ]
  },
  {
   "cell_type": "code",
   "execution_count": 14,
   "id": "2ac25ac5",
   "metadata": {},
   "outputs": [
    {
     "name": "stdout",
     "output_type": "stream",
     "text": [
      "99\n"
     ]
    }
   ],
   "source": [
    "print(sampledict[\"countery\"][\"indian team\"][\"Runs\"][\"Mahi\"])"
   ]
  },
  {
   "cell_type": "code",
   "execution_count": 18,
   "id": "e46ed561",
   "metadata": {},
   "outputs": [
    {
     "name": "stdout",
     "output_type": "stream",
     "text": [
      "2700 it is in dicion\n"
     ]
    }
   ],
   "source": [
    "sample_dict = {\"a\":100, \"b\":2700,\"c\":500}\n",
    "\n",
    "if 2700 in sample_dict.values():\n",
    "    print(\"2700 it is in dicion\")\n",
    "else:\n",
    "        print(\"it is not in dicton\")"
   ]
  },
  {
   "cell_type": "code",
   "execution_count": 19,
   "id": "447bdd98",
   "metadata": {},
   "outputs": [
    {
     "name": "stdout",
     "output_type": "stream",
     "text": [
      "it is not in dicton\n"
     ]
    }
   ],
   "source": [
    "sample_dict = {\"a\":100, \"b\":2500,\"c\":500}\n",
    "\n",
    "if 2700 in sample_dict.values():\n",
    "    print(\"2700 it is in dicion\")\n",
    "else:\n",
    "        print(\"it is not in dicton\")"
   ]
  },
  {
   "cell_type": "code",
   "execution_count": 3,
   "id": "e3abb1c4",
   "metadata": {},
   "outputs": [],
   "source": [
    "sample_dict = {\n",
    "    \"countery\":\n",
    "              {\n",
    "                  \"cricket team\":\n",
    "                  {\n",
    "              \"name\":[\"msd\",\"virat\",\"bhaji\",\"sachin\",\"dravid\",\"azahar\"],\n",
    "              \"runs\":\n",
    "                      {\n",
    "                          \"msd\":77,\n",
    "                          \"virat\":88,\n",
    "                          \"sachin\":99,\n",
    "                          \"azahar\":55\n",
    "                      }\n",
    "                  }\n",
    "              }\n",
    "}\n",
    "               \n",
    "\n",
    "                  \n",
    "                    \n",
    "              \n",
    "    \n",
    "\n",
    "              \n",
    "              "
   ]
  },
  {
   "cell_type": "code",
   "execution_count": 7,
   "id": "16eb5169",
   "metadata": {},
   "outputs": [
    {
     "name": "stdout",
     "output_type": "stream",
     "text": [
      "77\n"
     ]
    }
   ],
   "source": [
    "print(sample_dict[\"countery\"][\"cricket team\"][\"runs\"][\"msd\"])"
   ]
  },
  {
   "cell_type": "code",
   "execution_count": 10,
   "id": "ee0df384",
   "metadata": {},
   "outputs": [
    {
     "name": "stdout",
     "output_type": "stream",
     "text": [
      "88\n"
     ]
    }
   ],
   "source": [
    "print(sample_dict[\"countery\"][\"cricket team\"][\"runs\"][\"virat\"])"
   ]
  },
  {
   "cell_type": "code",
   "execution_count": 15,
   "id": "4837ed55",
   "metadata": {},
   "outputs": [
    {
     "name": "stdout",
     "output_type": "stream",
     "text": [
      "99\n"
     ]
    }
   ],
   "source": [
    "print(sample_dict[\"countery\"][\"cricket team\"][\"runs\"][\"sachin\"])"
   ]
  },
  {
   "cell_type": "code",
   "execution_count": 16,
   "id": "7dbbdc80",
   "metadata": {},
   "outputs": [
    {
     "name": "stdout",
     "output_type": "stream",
     "text": [
      "{'msd': 77, 'virat': 88, 'sachin': 99, 'azahar': 55}\n"
     ]
    }
   ],
   "source": [
    "print(sample_dict[\"countery\"][\"cricket team\"][\"runs\"])"
   ]
  },
  {
   "cell_type": "code",
   "execution_count": 17,
   "id": "cc091d7a",
   "metadata": {},
   "outputs": [
    {
     "name": "stdout",
     "output_type": "stream",
     "text": [
      "{'cricket team': {'name': ['msd', 'virat', 'bhaji', 'sachin', 'dravid', 'azahar'], 'runs': {'msd': 77, 'virat': 88, 'sachin': 99, 'azahar': 55}}}\n"
     ]
    }
   ],
   "source": [
    "print(sample_dict[\"countery\"])"
   ]
  },
  {
   "cell_type": "code",
   "execution_count": 18,
   "id": "dcbebd97",
   "metadata": {},
   "outputs": [
    {
     "name": "stdout",
     "output_type": "stream",
     "text": [
      "{'countery': {'cricket team': {'name': ['msd', 'virat', 'bhaji', 'sachin', 'dravid', 'azahar'], 'runs': {'msd': 77, 'virat': 88, 'sachin': 99, 'azahar': 55}}}}\n"
     ]
    }
   ],
   "source": [
    "print(sample_dict)"
   ]
  },
  {
   "cell_type": "code",
   "execution_count": 27,
   "id": "d23cdff3",
   "metadata": {},
   "outputs": [],
   "source": [
    "#write a prog. to add a list of elements into a given set.\n",
    "sample_set = {\"ram\",\"shyam\",\"mohan\",\"hari\"}\n",
    "sample_list = {\"john\",\"mon\",\"rahim\"}\n",
    "\n"
   ]
  },
  {
   "cell_type": "code",
   "execution_count": 28,
   "id": "15931eee",
   "metadata": {},
   "outputs": [
    {
     "name": "stdout",
     "output_type": "stream",
     "text": [
      "{'ram', 'hari', 'mohan', 'shyam'}\n"
     ]
    }
   ],
   "source": [
    "print(sample_set)"
   ]
  },
  {
   "cell_type": "code",
   "execution_count": 29,
   "id": "1383bb9f",
   "metadata": {},
   "outputs": [
    {
     "name": "stdout",
     "output_type": "stream",
     "text": [
      "{'rahim', 'mon', 'john'}\n"
     ]
    }
   ],
   "source": [
    "print(sample_list)"
   ]
  },
  {
   "cell_type": "code",
   "execution_count": 30,
   "id": "32bc9579",
   "metadata": {},
   "outputs": [
    {
     "name": "stdout",
     "output_type": "stream",
     "text": [
      "{'mohan', 'hari', 'ram', 'rahim', 'john', 'mon', 'shyam'}\n"
     ]
    }
   ],
   "source": [
    "sample_set.update(sample_list)\n",
    "print(sample_set)"
   ]
  },
  {
   "cell_type": "code",
   "execution_count": 32,
   "id": "69346995",
   "metadata": {},
   "outputs": [
    {
     "name": "stdout",
     "output_type": "stream",
     "text": [
      "{'mohan', 'john', 'ram', 'mon', 'hari', 'rahim', 'shyam'}\n"
     ]
    }
   ],
   "source": [
    "sample_list.update(sample_set)\n",
    "print(sample_list)"
   ]
  },
  {
   "cell_type": "code",
   "execution_count": 33,
   "id": "22c0d747",
   "metadata": {},
   "outputs": [],
   "source": [
    "# write a paython program to return a new set of identical item from two set.\n",
    "\n",
    "set1 ={10,20,30,40,50,60,70}\n",
    "set2 = {80,90,40,50,70,30,10}"
   ]
  },
  {
   "cell_type": "code",
   "execution_count": 34,
   "id": "90ae6214",
   "metadata": {},
   "outputs": [
    {
     "name": "stdout",
     "output_type": "stream",
     "text": [
      "{50, 20, 70, 40, 10, 60, 30}\n"
     ]
    }
   ],
   "source": [
    "print(set1)"
   ]
  },
  {
   "cell_type": "code",
   "execution_count": 35,
   "id": "53adc6c2",
   "metadata": {},
   "outputs": [
    {
     "name": "stdout",
     "output_type": "stream",
     "text": [
      "{80, 50, 90, 70, 40, 10, 30}\n"
     ]
    }
   ],
   "source": [
    "print(set2)"
   ]
  },
  {
   "cell_type": "code",
   "execution_count": 36,
   "id": "0fbc71a6",
   "metadata": {},
   "outputs": [
    {
     "name": "stdout",
     "output_type": "stream",
     "text": [
      "{70, 40, 10, 50, 30}\n"
     ]
    }
   ],
   "source": [
    "print(set1.intersection(set2))"
   ]
  },
  {
   "cell_type": "code",
   "execution_count": 37,
   "id": "3afdbd96",
   "metadata": {},
   "outputs": [
    {
     "name": "stdout",
     "output_type": "stream",
     "text": [
      "{70, 40, 10, 80, 50, 20, 90, 60, 30}\n"
     ]
    }
   ],
   "source": [
    "print(set1.union(set2))"
   ]
  },
  {
   "cell_type": "code",
   "execution_count": 38,
   "id": "9d0e7482",
   "metadata": {},
   "outputs": [],
   "source": [
    "# given a list of numbers write a prog. to turn every item into its square.\n",
    "number = [1,2,3,4,5,6,7,8]"
   ]
  },
  {
   "cell_type": "code",
   "execution_count": 43,
   "id": "644b8e8e",
   "metadata": {},
   "outputs": [
    {
     "name": "stdout",
     "output_type": "stream",
     "text": [
      "[1, 4, 9, 16, 25, 36, 49, 64]\n"
     ]
    }
   ],
   "source": [
    "sqr_num = []\n",
    "for x in number:\n",
    "    sqr_num.append(x*x)\n",
    "    \n",
    "print(sqr_num)"
   ]
  },
  {
   "cell_type": "code",
   "execution_count": 45,
   "id": "dc3d426a",
   "metadata": {},
   "outputs": [
    {
     "name": "stdout",
     "output_type": "stream",
     "text": [
      "[1]\n",
      "[1, 4]\n",
      "[1, 4, 9]\n",
      "[1, 4, 9, 16]\n",
      "[1, 4, 9, 16, 25]\n",
      "[1, 4, 9, 16, 25, 36]\n",
      "[1, 4, 9, 16, 25, 36, 49]\n",
      "[1, 4, 9, 16, 25, 36, 49, 64]\n"
     ]
    }
   ],
   "source": [
    "sqr_num = []\n",
    "for x in number:\n",
    "    sqr_num.append(x*x)\n",
    "    print(sqr_num)    "
   ]
  },
  {
   "cell_type": "code",
   "execution_count": 46,
   "id": "57c82cb7",
   "metadata": {},
   "outputs": [],
   "source": [
    "# write a prog. to add item 3000 in the following payathon list.\n",
    "list1 = [10,20,[400,500,[1000,2000],100000],30,40]"
   ]
  },
  {
   "cell_type": "code",
   "execution_count": 47,
   "id": "0d8ee47d",
   "metadata": {},
   "outputs": [
    {
     "name": "stdout",
     "output_type": "stream",
     "text": [
      "[10, 20, [400, 500, [1000, 2000], 100000], 30, 40]\n"
     ]
    }
   ],
   "source": [
    "print(list1)"
   ]
  },
  {
   "cell_type": "code",
   "execution_count": 49,
   "id": "fb664f4c",
   "metadata": {},
   "outputs": [
    {
     "data": {
      "text/plain": [
       "10"
      ]
     },
     "execution_count": 49,
     "metadata": {},
     "output_type": "execute_result"
    }
   ],
   "source": [
    "list1[0]"
   ]
  },
  {
   "cell_type": "code",
   "execution_count": 51,
   "id": "822320c5",
   "metadata": {},
   "outputs": [
    {
     "data": {
      "text/plain": [
       "20"
      ]
     },
     "execution_count": 51,
     "metadata": {},
     "output_type": "execute_result"
    }
   ],
   "source": [
    "list1[1]"
   ]
  },
  {
   "cell_type": "code",
   "execution_count": 53,
   "id": "39c39b83",
   "metadata": {},
   "outputs": [],
   "source": [
    "list1[2][2].append(3000)"
   ]
  },
  {
   "cell_type": "code",
   "execution_count": 54,
   "id": "e8314a7a",
   "metadata": {},
   "outputs": [
    {
     "name": "stdout",
     "output_type": "stream",
     "text": [
      "[10, 20, [400, 500, [1000, 2000, 3000], 100000], 30, 40]\n"
     ]
    }
   ],
   "source": [
    "print(list1)"
   ]
  },
  {
   "cell_type": "code",
   "execution_count": 57,
   "id": "2edfb863",
   "metadata": {},
   "outputs": [],
   "source": [
    "list1.append(50)"
   ]
  },
  {
   "cell_type": "code",
   "execution_count": 58,
   "id": "72a9b548",
   "metadata": {},
   "outputs": [
    {
     "name": "stdout",
     "output_type": "stream",
     "text": [
      "[10, 20, [400, 500, [1000, 2000, 3000], 100000], 30, 40, 50]\n"
     ]
    }
   ],
   "source": [
    "print(list1)"
   ]
  },
  {
   "cell_type": "code",
   "execution_count": null,
   "id": "3443eddd",
   "metadata": {},
   "outputs": [],
   "source": []
  }
 ],
 "metadata": {
  "kernelspec": {
   "display_name": "Python 3 (ipykernel)",
   "language": "python",
   "name": "python3"
  },
  "language_info": {
   "codemirror_mode": {
    "name": "ipython",
    "version": 3
   },
   "file_extension": ".py",
   "mimetype": "text/x-python",
   "name": "python",
   "nbconvert_exporter": "python",
   "pygments_lexer": "ipython3",
   "version": "3.11.4"
  }
 },
 "nbformat": 4,
 "nbformat_minor": 5
}
