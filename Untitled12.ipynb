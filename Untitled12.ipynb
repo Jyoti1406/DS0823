{
 "cells": [
  {
   "cell_type": "code",
   "execution_count": 23,
   "id": "ec652e16",
   "metadata": {},
   "outputs": [
    {
     "data": {
      "text/plain": [
       "[1, 2, 3, 4, 5, 9, 88, 5, 4, 2, 99, 101]"
      ]
     },
     "execution_count": 23,
     "metadata": {},
     "output_type": "execute_result"
    }
   ],
   "source": [
    "item_no = [1,2,3,4,5,9,88,5,4,2,99,101]\n",
    "item_no"
   ]
  },
  {
   "cell_type": "code",
   "execution_count": 25,
   "id": "9523988e",
   "metadata": {},
   "outputs": [
    {
     "data": {
      "text/plain": [
       "{1, 2, 3, 4, 5, 9, 88, 99, 101}"
      ]
     },
     "execution_count": 25,
     "metadata": {},
     "output_type": "execute_result"
    }
   ],
   "source": [
    "dup_item = set(item_no)\n",
    "dup_item"
   ]
  },
  {
   "cell_type": "code",
   "execution_count": 34,
   "id": "f9219d2a",
   "metadata": {},
   "outputs": [
    {
     "data": {
      "text/plain": [
       "[1, 2, 3, 5, 6, 4, 'a', '8d']"
      ]
     },
     "execution_count": 34,
     "metadata": {},
     "output_type": "execute_result"
    }
   ],
   "source": [
    "item_list = [1,2,3,5,6,4,'a','8d',5,4,2,4]\n",
    "item_list"
   ]
  },
  {
   "cell_type": "code",
   "execution_count": 35,
   "id": "f4077f93",
   "metadata": {},
   "outputs": [
    {
     "data": {
      "text/plain": [
       "{1, 2, 3, 4, 5, 6, '8d', 'a'}"
      ]
     },
     "execution_count": 35,
     "metadata": {},
     "output_type": "execute_result"
    }
   ],
   "source": [
    "dup_list = set(item_list)\n",
    "dup_list"
   ]
  },
  {
   "cell_type": "code",
   "execution_count": 37,
   "id": "eff13cf8",
   "metadata": {},
   "outputs": [
    {
     "data": {
      "text/plain": [
       "[1, 2, 3, 4, 5, 6, 'a', '8d']"
      ]
     },
     "execution_count": 37,
     "metadata": {},
     "output_type": "execute_result"
    }
   ],
   "source": [
    "org_list = list(dup_list)\n",
    "org_list"
   ]
  },
  {
   "cell_type": "code",
   "execution_count": 40,
   "id": "d2af85d0",
   "metadata": {},
   "outputs": [
    {
     "data": {
      "text/plain": [
       "['a', 'as', 54, '4a', 'g5', 'a', 'as']"
      ]
     },
     "execution_count": 40,
     "metadata": {},
     "output_type": "execute_result"
    }
   ],
   "source": [
    "item_no = ['a','as',54,'4a','g5','a','as']\n",
    "item_no"
   ]
  },
  {
   "cell_type": "code",
   "execution_count": 41,
   "id": "62f2b83c",
   "metadata": {},
   "outputs": [
    {
     "data": {
      "text/plain": [
       "{'4a', 54, 'a', 'as', 'g5'}"
      ]
     },
     "execution_count": 41,
     "metadata": {},
     "output_type": "execute_result"
    }
   ],
   "source": [
    "#remove duplicate,\n",
    "dup_item = set(item_no)\n",
    "dup_item"
   ]
  },
  {
   "cell_type": "code",
   "execution_count": 42,
   "id": "9cf5307d",
   "metadata": {},
   "outputs": [
    {
     "data": {
      "text/plain": [
       "['as', 'a', '4a', 'g5', 54]"
      ]
     },
     "execution_count": 42,
     "metadata": {},
     "output_type": "execute_result"
    }
   ],
   "source": [
    "#convert set into list,\n",
    "item_1 = list(dup_item)\n",
    "item_1"
   ]
  },
  {
   "cell_type": "code",
   "execution_count": null,
   "id": "dfb0eca2",
   "metadata": {},
   "outputs": [],
   "source": []
  }
 ],
 "metadata": {
  "kernelspec": {
   "display_name": "Python 3 (ipykernel)",
   "language": "python",
   "name": "python3"
  },
  "language_info": {
   "codemirror_mode": {
    "name": "ipython",
    "version": 3
   },
   "file_extension": ".py",
   "mimetype": "text/x-python",
   "name": "python",
   "nbconvert_exporter": "python",
   "pygments_lexer": "ipython3",
   "version": "3.11.4"
  }
 },
 "nbformat": 4,
 "nbformat_minor": 5
}
