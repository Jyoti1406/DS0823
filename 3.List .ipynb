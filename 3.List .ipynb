{
 "cells": [
  {
   "cell_type": "markdown",
   "id": "a2c16e22",
   "metadata": {},
   "source": [
    "# Lists\n"
   ]
  },
  {
   "cell_type": "code",
   "execution_count": 1,
   "id": "9f48f823",
   "metadata": {},
   "outputs": [
    {
     "data": {
      "text/plain": [
       "[]"
      ]
     },
     "execution_count": 1,
     "metadata": {},
     "output_type": "execute_result"
    }
   ],
   "source": [
    "l = []\n",
    "l"
   ]
  },
  {
   "cell_type": "code",
   "execution_count": 5,
   "id": "18193b1a",
   "metadata": {},
   "outputs": [
    {
     "data": {
      "text/plain": [
       "['a', 'b', 'c', 'd']"
      ]
     },
     "execution_count": 5,
     "metadata": {},
     "output_type": "execute_result"
    }
   ],
   "source": [
    "l = ['a','b','c','d']\n",
    "l"
   ]
  },
  {
   "cell_type": "code",
   "execution_count": 6,
   "id": "f97a503e",
   "metadata": {},
   "outputs": [
    {
     "data": {
      "text/plain": [
       "['a', 6, 9, 8]"
      ]
     },
     "execution_count": 6,
     "metadata": {},
     "output_type": "execute_result"
    }
   ],
   "source": [
    "l = ['a',6,9,8]\n",
    "l"
   ]
  },
  {
   "cell_type": "code",
   "execution_count": 7,
   "id": "cdf913b0",
   "metadata": {},
   "outputs": [
    {
     "data": {
      "text/plain": [
       "['a', 6, 9, 8]"
      ]
     },
     "execution_count": 7,
     "metadata": {},
     "output_type": "execute_result"
    }
   ],
   "source": [
    "l2 = list(l)\n",
    "l2"
   ]
  },
  {
   "cell_type": "code",
   "execution_count": 8,
   "id": "2677fd71",
   "metadata": {},
   "outputs": [],
   "source": [
    "marks = [35,45,55,65,89]\n"
   ]
  },
  {
   "cell_type": "code",
   "execution_count": 9,
   "id": "7eaead78",
   "metadata": {},
   "outputs": [
    {
     "data": {
      "text/plain": [
       "[35, 45, 55, 65, 89]"
      ]
     },
     "execution_count": 9,
     "metadata": {},
     "output_type": "execute_result"
    }
   ],
   "source": [
    "marks"
   ]
  },
  {
   "cell_type": "markdown",
   "id": "0efbdd0f",
   "metadata": {},
   "source": [
    "# create a duplicate marks copy() method."
   ]
  },
  {
   "cell_type": "code",
   "execution_count": 10,
   "id": "99b0ac22",
   "metadata": {},
   "outputs": [],
   "source": [
    "copy_marks = marks.copy()"
   ]
  },
  {
   "cell_type": "code",
   "execution_count": 11,
   "id": "a3096ef4",
   "metadata": {},
   "outputs": [
    {
     "data": {
      "text/plain": [
       "[35, 45, 55, 65, 89]"
      ]
     },
     "execution_count": 11,
     "metadata": {},
     "output_type": "execute_result"
    }
   ],
   "source": [
    "copy_marks"
   ]
  },
  {
   "cell_type": "code",
   "execution_count": 12,
   "id": "f4b11a81",
   "metadata": {},
   "outputs": [
    {
     "data": {
      "text/plain": [
       "['k', 'u', 'm', 'a', 'r']"
      ]
     },
     "execution_count": 12,
     "metadata": {},
     "output_type": "execute_result"
    }
   ],
   "source": [
    "list('kumar')"
   ]
  },
  {
   "cell_type": "code",
   "execution_count": 18,
   "id": "f79b9216",
   "metadata": {},
   "outputs": [
    {
     "data": {
      "text/plain": [
       "list['kumar']"
      ]
     },
     "execution_count": 18,
     "metadata": {},
     "output_type": "execute_result"
    }
   ],
   "source": [
    "list ['kumar']"
   ]
  },
  {
   "cell_type": "code",
   "execution_count": 13,
   "id": "68e88e56",
   "metadata": {},
   "outputs": [
    {
     "ename": "TypeError",
     "evalue": "'int' object is not iterable",
     "output_type": "error",
     "traceback": [
      "\u001b[1;31m---------------------------------------------------------------------------\u001b[0m",
      "\u001b[1;31mTypeError\u001b[0m                                 Traceback (most recent call last)",
      "Cell \u001b[1;32mIn[13], line 1\u001b[0m\n\u001b[1;32m----> 1\u001b[0m \u001b[38;5;28mlist\u001b[39m(\u001b[38;5;241m12345678\u001b[39m)\n",
      "\u001b[1;31mTypeError\u001b[0m: 'int' object is not iterable"
     ]
    }
   ],
   "source": [
    "# e\n",
    "list(12345678)"
   ]
  },
  {
   "cell_type": "code",
   "execution_count": 15,
   "id": "6c4dbb4a",
   "metadata": {},
   "outputs": [
    {
     "data": {
      "text/plain": [
       "['1', '2', '3', '4', '5', '6', '7', '8']"
      ]
     },
     "execution_count": 15,
     "metadata": {},
     "output_type": "execute_result"
    }
   ],
   "source": [
    "# convert int to string\n",
    "list ('12345678')"
   ]
  },
  {
   "cell_type": "code",
   "execution_count": 16,
   "id": "8bfa91c4",
   "metadata": {},
   "outputs": [
    {
     "data": {
      "text/plain": [
       "list['12345678']"
      ]
     },
     "execution_count": 16,
     "metadata": {},
     "output_type": "execute_result"
    }
   ],
   "source": [
    "list ['12345678']"
   ]
  },
  {
   "cell_type": "markdown",
   "id": "1ada62f4",
   "metadata": {},
   "source": [
    "# .append\n"
   ]
  },
  {
   "cell_type": "code",
   "execution_count": 8,
   "id": "d1f44933",
   "metadata": {},
   "outputs": [
    {
     "data": {
      "text/plain": [
       "[]"
      ]
     },
     "execution_count": 8,
     "metadata": {},
     "output_type": "execute_result"
    }
   ],
   "source": [
    "employee = []\n",
    "employee"
   ]
  },
  {
   "cell_type": "code",
   "execution_count": 9,
   "id": "a00078de",
   "metadata": {},
   "outputs": [],
   "source": [
    "employee.append('Radha')"
   ]
  },
  {
   "cell_type": "code",
   "execution_count": 26,
   "id": "2ef7b47b",
   "metadata": {},
   "outputs": [
    {
     "name": "stdout",
     "output_type": "stream",
     "text": [
      "['radha', 'Radha', 'Radha']\n"
     ]
    }
   ],
   "source": [
    "print (employee)"
   ]
  },
  {
   "cell_type": "code",
   "execution_count": 13,
   "id": "b1f7d68a",
   "metadata": {},
   "outputs": [
    {
     "name": "stdout",
     "output_type": "stream",
     "text": [
      "['Radha', 'Ramesh', 'Mohan']\n"
     ]
    }
   ],
   "source": [
    "employee .append('Ramesh')\n",
    "employee .append('Mohan')\n",
    "print (employee)"
   ]
  },
  {
   "cell_type": "markdown",
   "id": "c1d8b65d",
   "metadata": {},
   "source": [
    "# index & insert"
   ]
  },
  {
   "cell_type": "code",
   "execution_count": 15,
   "id": "1701be2e",
   "metadata": {},
   "outputs": [
    {
     "data": {
      "text/plain": [
       "['Radha', \"D'souza\", \"D'souza\", 'Ramesh', 'Mohan']"
      ]
     },
     "execution_count": 15,
     "metadata": {},
     "output_type": "execute_result"
    }
   ],
   "source": [
    "employee.insert(1,\"D'souza\")\n",
    "employee"
   ]
  },
  {
   "cell_type": "code",
   "execution_count": 48,
   "id": "e24354a2",
   "metadata": {},
   "outputs": [
    {
     "data": {
      "text/plain": [
       "[15000, 16000, 17000, 18000, 19000]"
      ]
     },
     "execution_count": 48,
     "metadata": {},
     "output_type": "execute_result"
    }
   ],
   "source": [
    "emp_salary = [15000,16000,17000,18000,19000]\n",
    "emp_salary"
   ]
  },
  {
   "cell_type": "code",
   "execution_count": 50,
   "id": "9291f644",
   "metadata": {},
   "outputs": [
    {
     "data": {
      "text/plain": [
       "[12000, 18000, 15000, 16000, 17000, 18000, 19000]"
      ]
     },
     "execution_count": 50,
     "metadata": {},
     "output_type": "execute_result"
    }
   ],
   "source": [
    "emp_salary.insert(0,12000)\n",
    "emp_salary"
   ]
  },
  {
   "cell_type": "code",
   "execution_count": 51,
   "id": "e8568ae4",
   "metadata": {},
   "outputs": [
    {
     "data": {
      "text/plain": [
       "[12000, 18000, 15000, 17500, 16000, 17000, 18000, 19000]"
      ]
     },
     "execution_count": 51,
     "metadata": {},
     "output_type": "execute_result"
    }
   ],
   "source": [
    "emp_salary .insert(3,17500)\n",
    "emp_salary"
   ]
  },
  {
   "cell_type": "code",
   "execution_count": 16,
   "id": "c93691cc",
   "metadata": {},
   "outputs": [
    {
     "data": {
      "text/plain": [
       "['Radha', \"D'souza\", \"D'souza\", 'Ramesh', 'Mohan']"
      ]
     },
     "execution_count": 16,
     "metadata": {},
     "output_type": "execute_result"
    }
   ],
   "source": [
    "# List extended method\n",
    "\n",
    "employee"
   ]
  },
  {
   "cell_type": "code",
   "execution_count": 34,
   "id": "8118910e",
   "metadata": {},
   "outputs": [
    {
     "data": {
      "text/plain": [
       "8"
      ]
     },
     "execution_count": 34,
     "metadata": {},
     "output_type": "execute_result"
    }
   ],
   "source": [
    "len(employee)"
   ]
  },
  {
   "cell_type": "code",
   "execution_count": 11,
   "id": "a6a0faa9",
   "metadata": {},
   "outputs": [
    {
     "ename": "IndentationError",
     "evalue": "unexpected indent (2197150636.py, line 2)",
     "output_type": "error",
     "traceback": [
      "\u001b[1;36m  Cell \u001b[1;32mIn[11], line 2\u001b[1;36m\u001b[0m\n\u001b[1;33m    employee\u001b[0m\n\u001b[1;37m    ^\u001b[0m\n\u001b[1;31mIndentationError\u001b[0m\u001b[1;31m:\u001b[0m unexpected indent\n"
     ]
    }
   ],
   "source": [
    "# Indexing & Slicing\n",
    " employee"
   ]
  },
  {
   "cell_type": "code",
   "execution_count": 17,
   "id": "573b6323",
   "metadata": {},
   "outputs": [
    {
     "data": {
      "text/plain": [
       "\"D'souza\""
      ]
     },
     "execution_count": 17,
     "metadata": {},
     "output_type": "execute_result"
    }
   ],
   "source": [
    "employee[1]"
   ]
  },
  {
   "cell_type": "code",
   "execution_count": 19,
   "id": "c7076339",
   "metadata": {},
   "outputs": [
    {
     "data": {
      "text/plain": [
       "'Ramesh'"
      ]
     },
     "execution_count": 19,
     "metadata": {},
     "output_type": "execute_result"
    }
   ],
   "source": [
    "employee[3]"
   ]
  },
  {
   "cell_type": "code",
   "execution_count": 52,
   "id": "7312e619",
   "metadata": {},
   "outputs": [
    {
     "data": {
      "text/plain": [
       "[12000, 18000, 15000, 17500, 16000, 17000, 18000, 19000]"
      ]
     },
     "execution_count": 52,
     "metadata": {},
     "output_type": "execute_result"
    }
   ],
   "source": [
    "emp_salary"
   ]
  },
  {
   "cell_type": "code",
   "execution_count": 53,
   "id": "ba2ba1b8",
   "metadata": {},
   "outputs": [
    {
     "data": {
      "text/plain": [
       "[18000, 15000, 17500, 16000, 17000, 18000, 19000]"
      ]
     },
     "execution_count": 53,
     "metadata": {},
     "output_type": "execute_result"
    }
   ],
   "source": [
    "# grab index 1 and everything post it\n",
    "emp_salary[1:]"
   ]
  },
  {
   "cell_type": "code",
   "execution_count": 55,
   "id": "ea35a608",
   "metadata": {},
   "outputs": [
    {
     "data": {
      "text/plain": [
       "[12000, 18000, 15000]"
      ]
     },
     "execution_count": 55,
     "metadata": {},
     "output_type": "execute_result"
    }
   ],
   "source": [
    "emp_salary[:3]"
   ]
  },
  {
   "cell_type": "code",
   "execution_count": 56,
   "id": "df6116ac",
   "metadata": {},
   "outputs": [
    {
     "data": {
      "text/plain": [
       "[12000, 18000, 15000, 17500]"
      ]
     },
     "execution_count": 56,
     "metadata": {},
     "output_type": "execute_result"
    }
   ],
   "source": [
    "emp_salary[0:4]"
   ]
  },
  {
   "cell_type": "code",
   "execution_count": 57,
   "id": "e6b18807",
   "metadata": {},
   "outputs": [
    {
     "data": {
      "text/plain": [
       "[12000, 18000]"
      ]
     },
     "execution_count": 57,
     "metadata": {},
     "output_type": "execute_result"
    }
   ],
   "source": [
    "emp_salary[0:2]"
   ]
  },
  {
   "cell_type": "code",
   "execution_count": 20,
   "id": "82d48fb8",
   "metadata": {},
   "outputs": [
    {
     "data": {
      "text/plain": [
       "['Radha', 'Remo', \"D'souza\", 'Ramesh', 'Mohan']"
      ]
     },
     "execution_count": 20,
     "metadata": {},
     "output_type": "execute_result"
    }
   ],
   "source": [
    "employee[1] = 'Remo'\n",
    "employee"
   ]
  },
  {
   "cell_type": "code",
   "execution_count": 44,
   "id": "531bbe75",
   "metadata": {},
   "outputs": [
    {
     "data": {
      "text/plain": [
       "['Rama', 'Remo', 'Radha', 'Radha', 'Ramesh', 'Mohan', 'Ramesh', 'Mohan']"
      ]
     },
     "execution_count": 44,
     "metadata": {},
     "output_type": "execute_result"
    }
   ],
   "source": [
    "employee[0] = 'Rama'\n",
    "employee"
   ]
  },
  {
   "cell_type": "code",
   "execution_count": 58,
   "id": "0695cef1",
   "metadata": {},
   "outputs": [
    {
     "data": {
      "text/plain": [
       "[80000, 18000, 15000, 17500, 16000, 17000, 18000, 19000]"
      ]
     },
     "execution_count": 58,
     "metadata": {},
     "output_type": "execute_result"
    }
   ],
   "source": [
    "emp_salary[0] = 80000\n",
    "emp_salary"
   ]
  },
  {
   "cell_type": "code",
   "execution_count": 46,
   "id": "df88fd0d",
   "metadata": {},
   "outputs": [],
   "source": [
    " employee[3] = 'Mira'"
   ]
  },
  {
   "cell_type": "code",
   "execution_count": 47,
   "id": "94a1521e",
   "metadata": {},
   "outputs": [
    {
     "name": "stdout",
     "output_type": "stream",
     "text": [
      "['Rama', 'Remo', 'Radha', 'Mira', 'Ramesh', 'Mohan', 'Ramesh', 'Mohan']\n"
     ]
    }
   ],
   "source": [
    "print(employee)"
   ]
  },
  {
   "cell_type": "code",
   "execution_count": 63,
   "id": "9ef25bf9",
   "metadata": {},
   "outputs": [],
   "source": [
    "emp_salary[3] = 3000"
   ]
  },
  {
   "cell_type": "code",
   "execution_count": 64,
   "id": "6bcfab93",
   "metadata": {},
   "outputs": [
    {
     "name": "stdout",
     "output_type": "stream",
     "text": [
      "[80000, 18000, 15000, 3000, 16000, 17000, 18000, 19000]\n"
     ]
    }
   ],
   "source": [
    "print(emp_salary)"
   ]
  },
  {
   "cell_type": "code",
   "execution_count": 65,
   "id": "c0369479",
   "metadata": {},
   "outputs": [
    {
     "data": {
      "text/plain": [
       "[80000, 18000, 15000, 3000, 16000, 17000, 18000, 19000, 20000]"
      ]
     },
     "execution_count": 65,
     "metadata": {},
     "output_type": "execute_result"
    }
   ],
   "source": [
    "# Temporary insert value\n",
    "emp_salary + [20000]"
   ]
  },
  {
   "cell_type": "code",
   "execution_count": 66,
   "id": "8e9f0e58",
   "metadata": {},
   "outputs": [],
   "source": [
    "#permanent Change value\n",
    "\n",
    "emp_salary = emp_salary + [202020]"
   ]
  },
  {
   "cell_type": "code",
   "execution_count": 67,
   "id": "a8411d45",
   "metadata": {},
   "outputs": [
    {
     "data": {
      "text/plain": [
       "[80000, 18000, 15000, 3000, 16000, 17000, 18000, 19000, 202020]"
      ]
     },
     "execution_count": 67,
     "metadata": {},
     "output_type": "execute_result"
    }
   ],
   "source": [
    "emp_salary"
   ]
  },
  {
   "cell_type": "code",
   "execution_count": 68,
   "id": "b8da867a",
   "metadata": {},
   "outputs": [
    {
     "data": {
      "text/plain": [
       "[80000,\n",
       " 18000,\n",
       " 15000,\n",
       " 3000,\n",
       " 16000,\n",
       " 17000,\n",
       " 18000,\n",
       " 19000,\n",
       " 202020,\n",
       " 80000,\n",
       " 18000,\n",
       " 15000,\n",
       " 3000,\n",
       " 16000,\n",
       " 17000,\n",
       " 18000,\n",
       " 19000,\n",
       " 202020]"
      ]
     },
     "execution_count": 68,
     "metadata": {},
     "output_type": "execute_result"
    }
   ],
   "source": [
    "emp_salary * 2"
   ]
  },
  {
   "cell_type": "code",
   "execution_count": 69,
   "id": "c877dbcb",
   "metadata": {},
   "outputs": [
    {
     "name": "stdout",
     "output_type": "stream",
     "text": [
      "++++++++++++++++++++++++++++++++++++++++++++++++++++++++++++++++++++++++++++++++++++++++++\n",
      "                       Data Trained                      \n",
      "++++++++++++++++++++++++++++++++++++++++++++++++++++++++++++++++++++++++++++++++++++++++++\n"
     ]
    }
   ],
   "source": [
    "print ('+' * 90)\n",
    "print ('                       Data Trained                      ')\n",
    "print ('+' * 90)"
   ]
  },
  {
   "cell_type": "markdown",
   "id": "d2598ae9",
   "metadata": {},
   "source": [
    "# Advanced List"
   ]
  },
  {
   "cell_type": "code",
   "execution_count": null,
   "id": "8987a293",
   "metadata": {},
   "outputs": [],
   "source": [
    "# count"
   ]
  },
  {
   "cell_type": "code",
   "execution_count": 1,
   "id": "e197a46c",
   "metadata": {},
   "outputs": [
    {
     "data": {
      "text/plain": [
       "2"
      ]
     },
     "execution_count": 1,
     "metadata": {},
     "output_type": "execute_result"
    }
   ],
   "source": [
    "marks = [25,52,10,10,54,54,65,65,88,88,89]\n",
    "marks.count(88)"
   ]
  },
  {
   "cell_type": "code",
   "execution_count": null,
   "id": "2dcc82b2",
   "metadata": {},
   "outputs": [],
   "source": [
    "#index\n"
   ]
  },
  {
   "cell_type": "code",
   "execution_count": 2,
   "id": "556e42b4",
   "metadata": {},
   "outputs": [
    {
     "data": {
      "text/plain": [
       "[25, 52, 10, 10, 54, 54, 65, 65, 88, 88, 89]"
      ]
     },
     "execution_count": 2,
     "metadata": {},
     "output_type": "execute_result"
    }
   ],
   "source": [
    "marks\n"
   ]
  },
  {
   "cell_type": "code",
   "execution_count": 3,
   "id": "1cc2640a",
   "metadata": {},
   "outputs": [
    {
     "data": {
      "text/plain": [
       "2"
      ]
     },
     "execution_count": 3,
     "metadata": {},
     "output_type": "execute_result"
    }
   ],
   "source": [
    "marks.index(10)"
   ]
  },
  {
   "cell_type": "code",
   "execution_count": null,
   "id": "94ef3e3d",
   "metadata": {},
   "outputs": [],
   "source": [
    "# Extend"
   ]
  },
  {
   "cell_type": "code",
   "execution_count": 21,
   "id": "c1392893",
   "metadata": {},
   "outputs": [
    {
     "data": {
      "text/plain": [
       "['Radha', 'Remo', \"D'souza\", 'Ramesh', 'Mohan']"
      ]
     },
     "execution_count": 21,
     "metadata": {},
     "output_type": "execute_result"
    }
   ],
   "source": [
    "employee"
   ]
  },
  {
   "cell_type": "code",
   "execution_count": 22,
   "id": "e50a0fa1",
   "metadata": {},
   "outputs": [],
   "source": [
    "employee.append(['Krishna','Gopi'])"
   ]
  },
  {
   "cell_type": "code",
   "execution_count": 23,
   "id": "4993c8b1",
   "metadata": {},
   "outputs": [
    {
     "data": {
      "text/plain": [
       "['Radha', 'Remo', \"D'souza\", 'Ramesh', 'Mohan', ['Krishna', 'Gopi']]"
      ]
     },
     "execution_count": 23,
     "metadata": {},
     "output_type": "execute_result"
    }
   ],
   "source": [
    "employee"
   ]
  },
  {
   "cell_type": "code",
   "execution_count": 24,
   "id": "d0c35297",
   "metadata": {},
   "outputs": [],
   "source": [
    " employee = ['Radha','Mohan','Ram','Siya']"
   ]
  },
  {
   "cell_type": "code",
   "execution_count": 25,
   "id": "9ed44e71",
   "metadata": {},
   "outputs": [
    {
     "data": {
      "text/plain": [
       "['Radha', 'Mohan', 'Ram', 'Siya']"
      ]
     },
     "execution_count": 25,
     "metadata": {},
     "output_type": "execute_result"
    }
   ],
   "source": [
    "employee"
   ]
  },
  {
   "cell_type": "code",
   "execution_count": 26,
   "id": "073f15ca",
   "metadata": {},
   "outputs": [
    {
     "name": "stdout",
     "output_type": "stream",
     "text": [
      "['Radha', 'Mohan', 'Ram', 'Siya', 'Rawan', 'Vibishan']\n"
     ]
    }
   ],
   "source": [
    "employee.extend(['Rawan','Vibishan'])\n",
    "print(employee)"
   ]
  },
  {
   "cell_type": "code",
   "execution_count": 27,
   "id": "09c00141",
   "metadata": {},
   "outputs": [],
   "source": [
    "emp_salary = [1000,2000,3000,4000]"
   ]
  },
  {
   "cell_type": "code",
   "execution_count": 29,
   "id": "9ba2df34",
   "metadata": {},
   "outputs": [
    {
     "name": "stdout",
     "output_type": "stream",
     "text": [
      "[1000, 2000, 3000, 4000, 5000, 6000, 5000, 6000]\n"
     ]
    }
   ],
   "source": [
    "emp_salary.extend([5000,6000])\n",
    "print(emp_salary)"
   ]
  },
  {
   "cell_type": "markdown",
   "id": "cecbf17d",
   "metadata": {},
   "source": [
    "# Pop (delet)"
   ]
  },
  {
   "cell_type": "code",
   "execution_count": 30,
   "id": "d9e65cb0",
   "metadata": {},
   "outputs": [
    {
     "data": {
      "text/plain": [
       "6000"
      ]
     },
     "execution_count": 30,
     "metadata": {},
     "output_type": "execute_result"
    }
   ],
   "source": [
    "emp_salary.pop()"
   ]
  },
  {
   "cell_type": "code",
   "execution_count": 31,
   "id": "809b37c1",
   "metadata": {},
   "outputs": [
    {
     "data": {
      "text/plain": [
       "[1000, 2000, 3000, 4000, 5000, 6000, 5000]"
      ]
     },
     "execution_count": 31,
     "metadata": {},
     "output_type": "execute_result"
    }
   ],
   "source": [
    "emp_salary"
   ]
  },
  {
   "cell_type": "code",
   "execution_count": 32,
   "id": "80100348",
   "metadata": {},
   "outputs": [
    {
     "data": {
      "text/plain": [
       "5000"
      ]
     },
     "execution_count": 32,
     "metadata": {},
     "output_type": "execute_result"
    }
   ],
   "source": [
    "emp_salary.pop(6)"
   ]
  },
  {
   "cell_type": "code",
   "execution_count": 33,
   "id": "a5ec6ae0",
   "metadata": {},
   "outputs": [
    {
     "data": {
      "text/plain": [
       "[1000, 2000, 3000, 4000, 5000, 6000]"
      ]
     },
     "execution_count": 33,
     "metadata": {},
     "output_type": "execute_result"
    }
   ],
   "source": [
    "emp_salary"
   ]
  },
  {
   "cell_type": "code",
   "execution_count": null,
   "id": "f1d95e8b",
   "metadata": {},
   "outputs": [],
   "source": [
    "# Remove"
   ]
  },
  {
   "cell_type": "code",
   "execution_count": 35,
   "id": "07bab42f",
   "metadata": {},
   "outputs": [],
   "source": [
    "emp_salary.remove(3000)"
   ]
  },
  {
   "cell_type": "code",
   "execution_count": 36,
   "id": "af9b5f02",
   "metadata": {},
   "outputs": [
    {
     "data": {
      "text/plain": [
       "[1000, 2000, 4000, 5000, 6000]"
      ]
     },
     "execution_count": 36,
     "metadata": {},
     "output_type": "execute_result"
    }
   ],
   "source": [
    "emp_salary"
   ]
  },
  {
   "cell_type": "markdown",
   "id": "f2d7507b",
   "metadata": {},
   "source": [
    "# Reverse"
   ]
  },
  {
   "cell_type": "code",
   "execution_count": 37,
   "id": "030eca21",
   "metadata": {},
   "outputs": [],
   "source": [
    "lst = [1,2,3,4,5,6,7,8,9]"
   ]
  },
  {
   "cell_type": "code",
   "execution_count": 38,
   "id": "e2414671",
   "metadata": {},
   "outputs": [],
   "source": [
    "lst.reverse()"
   ]
  },
  {
   "cell_type": "code",
   "execution_count": 39,
   "id": "1520e25b",
   "metadata": {},
   "outputs": [
    {
     "data": {
      "text/plain": [
       "[9, 8, 7, 6, 5, 4, 3, 2, 1]"
      ]
     },
     "execution_count": 39,
     "metadata": {},
     "output_type": "execute_result"
    }
   ],
   "source": [
    "lst"
   ]
  },
  {
   "cell_type": "markdown",
   "id": "ee7e65f5",
   "metadata": {},
   "source": [
    "# Sort"
   ]
  },
  {
   "cell_type": "code",
   "execution_count": 41,
   "id": "ac19139c",
   "metadata": {},
   "outputs": [
    {
     "data": {
      "text/plain": [
       "[25, 26, 27, 35, 36, 37, 39, 11, 5, 1]"
      ]
     },
     "execution_count": 41,
     "metadata": {},
     "output_type": "execute_result"
    }
   ],
   "source": [
    "marks = [25,26,27,35,36,37,39,11,5,1]\n",
    "marks"
   ]
  },
  {
   "cell_type": "code",
   "execution_count": 43,
   "id": "02c5fe5d",
   "metadata": {},
   "outputs": [
    {
     "name": "stdout",
     "output_type": "stream",
     "text": [
      "[1, 5, 11, 25, 26, 27, 35, 36, 37, 39]\n"
     ]
    }
   ],
   "source": [
    "marks.sort()\n",
    "print(marks)"
   ]
  },
  {
   "cell_type": "code",
   "execution_count": 44,
   "id": "7f8b1588",
   "metadata": {},
   "outputs": [
    {
     "name": "stdout",
     "output_type": "stream",
     "text": [
      "[39, 37, 36, 35, 27, 26, 25, 11, 5, 1]\n"
     ]
    }
   ],
   "source": [
    "marks.sort(reverse=True)\n",
    "print(marks)"
   ]
  },
  {
   "cell_type": "code",
   "execution_count": null,
   "id": "f80166b5",
   "metadata": {},
   "outputs": [],
   "source": []
  }
 ],
 "metadata": {
  "kernelspec": {
   "display_name": "Python 3 (ipykernel)",
   "language": "python",
   "name": "python3"
  },
  "language_info": {
   "codemirror_mode": {
    "name": "ipython",
    "version": 3
   },
   "file_extension": ".py",
   "mimetype": "text/x-python",
   "name": "python",
   "nbconvert_exporter": "python",
   "pygments_lexer": "ipython3",
   "version": "3.11.4"
  }
 },
 "nbformat": 4,
 "nbformat_minor": 5
}
