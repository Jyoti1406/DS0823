{
 "cells": [
  {
   "cell_type": "markdown",
   "id": "acd2731c",
   "metadata": {},
   "source": [
    "# map()"
   ]
  },
  {
   "cell_type": "code",
   "execution_count": 13,
   "id": "03edf51a",
   "metadata": {},
   "outputs": [],
   "source": [
    "def grace_marks(marks):\n",
    "    if marks == 33:\n",
    "        return (marks + 2)\n",
    "    elif marks == 34:\n",
    "        return (marks + 1)\n",
    "    elif marks == 30:\n",
    "        return (marks + 5)\n",
    "    \n",
    "    else:\n",
    "        return marks"
   ]
  },
  {
   "cell_type": "code",
   "execution_count": 42,
   "id": "3fedcbc7",
   "metadata": {},
   "outputs": [],
   "source": [
    "total = list(map(grace_marks , score))"
   ]
  },
  {
   "cell_type": "code",
   "execution_count": 43,
   "id": "76a45191",
   "metadata": {},
   "outputs": [
    {
     "name": "stdout",
     "output_type": "stream",
     "text": [
      "[30, 50, 34, 33, 56, 35, 30, 29, 32]\n"
     ]
    }
   ],
   "source": [
    "print(total)"
   ]
  },
  {
   "cell_type": "code",
   "execution_count": 36,
   "id": "5fc56342",
   "metadata": {},
   "outputs": [],
   "source": [
    "salary = [10000,15000,25000,20000,50000,10000,75000]"
   ]
  },
  {
   "cell_type": "code",
   "execution_count": 38,
   "id": "673917f5",
   "metadata": {},
   "outputs": [
    {
     "name": "stdout",
     "output_type": "stream",
     "text": [
      "20000 0\n"
     ]
    }
   ],
   "source": [
    "total_marks = list(map(grace_marks,salary))"
   ]
  },
  {
   "cell_type": "markdown",
   "id": "ca19f348",
   "metadata": {},
   "source": [
    "# filter()"
   ]
  },
  {
   "cell_type": "code",
   "execution_count": 51,
   "id": "a213d66f",
   "metadata": {},
   "outputs": [],
   "source": [
    "def filtet_marks(marks):\n",
    "    if marks <=35:\n",
    "        return marks"
   ]
  },
  {
   "cell_type": "code",
   "execution_count": 52,
   "id": "3b4666b1",
   "metadata": {},
   "outputs": [],
   "source": [
    "score = [33,34,35,35,36,37,38,39,40,29]"
   ]
  },
  {
   "cell_type": "code",
   "execution_count": 54,
   "id": "718557bd",
   "metadata": {},
   "outputs": [
    {
     "data": {
      "text/plain": [
       "[33, 34, 35, 35, 29]"
      ]
     },
     "execution_count": 54,
     "metadata": {},
     "output_type": "execute_result"
    }
   ],
   "source": [
    "failed = list(filter(filtet_marks,score))\n",
    "\n",
    "\n",
    "failed\n",
    "\n"
   ]
  },
  {
   "cell_type": "markdown",
   "id": "8bbaf291",
   "metadata": {},
   "source": [
    "# diff b/w map and filter"
   ]
  },
  {
   "cell_type": "code",
   "execution_count": 58,
   "id": "7aa898a8",
   "metadata": {},
   "outputs": [
    {
     "data": {
      "text/plain": [
       "[False, True, False, True, False, True]"
      ]
     },
     "execution_count": 58,
     "metadata": {},
     "output_type": "execute_result"
    }
   ],
   "source": [
    "list(map(lambda var: var%2  == 0, [1,2,3,4,5,6]))"
   ]
  },
  {
   "cell_type": "code",
   "execution_count": 59,
   "id": "28579e18",
   "metadata": {},
   "outputs": [
    {
     "data": {
      "text/plain": [
       "[2, 4, 6]"
      ]
     },
     "execution_count": 59,
     "metadata": {},
     "output_type": "execute_result"
    }
   ],
   "source": [
    "list(filter(lambda var: var%2 == 0, [1,2,3,4,5,6]))"
   ]
  },
  {
   "cell_type": "code",
   "execution_count": null,
   "id": "0ca5a063",
   "metadata": {},
   "outputs": [],
   "source": []
  }
 ],
 "metadata": {
  "kernelspec": {
   "display_name": "Python 3 (ipykernel)",
   "language": "python",
   "name": "python3"
  },
  "language_info": {
   "codemirror_mode": {
    "name": "ipython",
    "version": 3
   },
   "file_extension": ".py",
   "mimetype": "text/x-python",
   "name": "python",
   "nbconvert_exporter": "python",
   "pygments_lexer": "ipython3",
   "version": "3.11.4"
  }
 },
 "nbformat": 4,
 "nbformat_minor": 5
}
