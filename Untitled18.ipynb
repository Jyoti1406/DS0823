{
 "cells": [
  {
   "cell_type": "code",
   "execution_count": 7,
   "id": "f4aeee41",
   "metadata": {},
   "outputs": [
    {
     "name": "stdout",
     "output_type": "stream",
     "text": [
      "b+\n"
     ]
    }
   ],
   "source": [
    "marks = 49.9\n",
    "if marks >= 60:\n",
    "    if marks >= 70:\n",
    "        print('a++')\n",
    "    else:\n",
    "        print('a+')\n",
    "elif marks ==50:         \n",
    "    print('b++')\n",
    "elif marks>=30:\n",
    "        print('b+')\n",
    "else:\n",
    "    print('next year')\n",
    "        \n",
    "        \n",
    "        \n",
    "    "
   ]
  },
  {
   "cell_type": "code",
   "execution_count": 8,
   "id": "45a3dcd7",
   "metadata": {},
   "outputs": [
    {
     "ename": "SyntaxError",
     "evalue": "invalid syntax (4248024030.py, line 3)",
     "output_type": "error",
     "traceback": [
      "\u001b[1;36m  Cell \u001b[1;32mIn[8], line 3\u001b[1;36m\u001b[0m\n\u001b[1;33m    if mum1 == 20;\u001b[0m\n\u001b[1;37m                 ^\u001b[0m\n\u001b[1;31mSyntaxError\u001b[0m\u001b[1;31m:\u001b[0m invalid syntax\n"
     ]
    }
   ],
   "source": [
    "num1 = 20\n",
    "num2 = 30\n",
    "if mum1 == 20;\n",
    "   print('a')\n",
    "elif num2>25;\n",
    "   print('b')\n"
   ]
  },
  {
   "cell_type": "code",
   "execution_count": null,
   "id": "4c58a913",
   "metadata": {},
   "outputs": [],
   "source": []
  }
 ],
 "metadata": {
  "kernelspec": {
   "display_name": "Python 3 (ipykernel)",
   "language": "python",
   "name": "python3"
  },
  "language_info": {
   "codemirror_mode": {
    "name": "ipython",
    "version": 3
   },
   "file_extension": ".py",
   "mimetype": "text/x-python",
   "name": "python",
   "nbconvert_exporter": "python",
   "pygments_lexer": "ipython3",
   "version": "3.11.4"
  }
 },
 "nbformat": 4,
 "nbformat_minor": 5
}
