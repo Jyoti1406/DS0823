{
 "cells": [
  {
   "cell_type": "markdown",
   "id": "06fb36f5",
   "metadata": {},
   "source": [
    "# globel & local varaible"
   ]
  },
  {
   "cell_type": "code",
   "execution_count": null,
   "id": "351b95bf",
   "metadata": {},
   "outputs": [],
   "source": [
    "# global variable - variable defined outside the function.this variable can be used outside as well as inside\n"
   ]
  },
  {
   "cell_type": "code",
   "execution_count": 3,
   "id": "51454321",
   "metadata": {},
   "outputs": [],
   "source": [
    "extra_marks = 10\n",
    "\n",
    "def tot_score_glob():\n",
    "    print(\"printing inside the functionand total is \",35 + extra_marks)\n",
    "    \n",
    "    tot_score_glob()"
   ]
  },
  {
   "cell_type": "code",
   "execution_count": 4,
   "id": "023d228f",
   "metadata": {},
   "outputs": [
    {
     "name": "stdout",
     "output_type": "stream",
     "text": [
      "printing outside the function and total is  45\n"
     ]
    }
   ],
   "source": [
    "print(\"printing outside the function and total is \", 35 + extra_marks)"
   ]
  },
  {
   "cell_type": "code",
   "execution_count": null,
   "id": "b1c0d476",
   "metadata": {},
   "outputs": [],
   "source": [
    "# local variable: variable defined inside the function.this variable can be used only inside the function\n"
   ]
  },
  {
   "cell_type": "code",
   "execution_count": 9,
   "id": "3240fdb0",
   "metadata": {},
   "outputs": [
    {
     "name": "stdout",
     "output_type": "stream",
     "text": [
      "printing inside the function and total is  100\n"
     ]
    }
   ],
   "source": [
    "def tot_score_loc():\n",
    "    some_marks = 50\n",
    "    print(\"printing inside the function and total is \", 50 + some_marks)\n",
    "    \n",
    "tot_score_loc()  \n",
    "    \n",
    "        "
   ]
  },
  {
   "cell_type": "code",
   "execution_count": 10,
   "id": "67d98dd5",
   "metadata": {},
   "outputs": [
    {
     "ename": "NameError",
     "evalue": "name 'some_marks' is not defined",
     "output_type": "error",
     "traceback": [
      "\u001b[1;31m---------------------------------------------------------------------------\u001b[0m",
      "\u001b[1;31mNameError\u001b[0m                                 Traceback (most recent call last)",
      "Cell \u001b[1;32mIn[10], line 1\u001b[0m\n\u001b[1;32m----> 1\u001b[0m \u001b[38;5;28mprint\u001b[39m(\u001b[38;5;124m\"\u001b[39m\u001b[38;5;124mprinting outside the function and total is \u001b[39m\u001b[38;5;124m\"\u001b[39m,\u001b[38;5;241m50\u001b[39m \u001b[38;5;241m+\u001b[39m some_marks)\n",
      "\u001b[1;31mNameError\u001b[0m: name 'some_marks' is not defined"
     ]
    }
   ],
   "source": [
    "print(\"printing outside the function and total is \",50 + some_marks)"
   ]
  },
  {
   "cell_type": "code",
   "execution_count": null,
   "id": "09994077",
   "metadata": {},
   "outputs": [],
   "source": [
    "# how to use local variable out side the function."
   ]
  },
  {
   "cell_type": "code",
   "execution_count": 18,
   "id": "59311065",
   "metadata": {},
   "outputs": [
    {
     "name": "stdout",
     "output_type": "stream",
     "text": [
      "This is godd\n"
     ]
    }
   ],
   "source": [
    "def local_global():\n",
    "    global var12\n",
    "    var12 = \"This is godd\"\n",
    "    print(var12)\n",
    "    \n",
    "local_global()    \n",
    "    \n",
    "    \n",
    "    "
   ]
  },
  {
   "cell_type": "code",
   "execution_count": 19,
   "id": "702c4821",
   "metadata": {},
   "outputs": [
    {
     "name": "stdout",
     "output_type": "stream",
     "text": [
      "This is godd\n"
     ]
    }
   ],
   "source": [
    "print(var12)"
   ]
  },
  {
   "cell_type": "code",
   "execution_count": null,
   "id": "1e36d04f",
   "metadata": {},
   "outputs": [],
   "source": []
  }
 ],
 "metadata": {
  "kernelspec": {
   "display_name": "Python 3 (ipykernel)",
   "language": "python",
   "name": "python3"
  },
  "language_info": {
   "codemirror_mode": {
    "name": "ipython",
    "version": 3
   },
   "file_extension": ".py",
   "mimetype": "text/x-python",
   "name": "python",
   "nbconvert_exporter": "python",
   "pygments_lexer": "ipython3",
   "version": "3.11.4"
  }
 },
 "nbformat": 4,
 "nbformat_minor": 5
}
