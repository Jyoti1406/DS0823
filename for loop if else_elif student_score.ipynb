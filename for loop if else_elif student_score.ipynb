{
 "cells": [
  {
   "cell_type": "code",
   "execution_count": 11,
   "id": "b26ea042",
   "metadata": {},
   "outputs": [
    {
     "name": "stdout",
     "output_type": "stream",
     "text": [
      "30 -fail\n",
      "38 -pass\n",
      "45 -pass\n",
      "56 -second class\n",
      "65 -first class\n",
      "75 -distinction\n",
      "95 -distinction\n",
      "28 -fail\n",
      "80 -distinction\n"
     ]
    }
   ],
   "source": [
    "student_score = [30,38,45,56,65,75,95,28,80]\n",
    "for marks in student_score:\n",
    "    if marks > 60:\n",
    "        if marks >=70:\n",
    "            print (marks,'-distinction')\n",
    "        else:\n",
    "            print (marks,'-first class')\n",
    "                \n",
    "    elif marks > 50 and marks <= 60:\n",
    "        print (marks,'-second class')\n",
    "        \n",
    "    elif marks >= 35: \n",
    "        print (marks,'-pass')\n",
    "    else:\n",
    "        print (marks,'-fail')"
   ]
  },
  {
   "cell_type": "code",
   "execution_count": 11,
   "id": "dced118d",
   "metadata": {},
   "outputs": [
    {
     "name": "stdout",
     "output_type": "stream",
     "text": [
      "12 -pass\n",
      "20 -pass\n",
      "30 -pass\n",
      "40 -second class\n",
      "80 -distinction\n",
      "65.5 -first class\n",
      "69.8 -first class\n",
      "90 -distinction\n",
      "5 -good job\n"
     ]
    }
   ],
   "source": [
    "student_score = [12,20,30,40,80,65.5,69.8,90,5]\n",
    "for marks in student_score:\n",
    "    if marks> 60:\n",
    "        if marks>=70:\n",
    "            print(marks,'-distinction')\n",
    "        else:\n",
    "            print(marks,'-first class')\n",
    "    elif marks >30 and marks < 50:        \n",
    "        print (marks,'-second class')\n",
    "        \n",
    "    elif marks > 10:\n",
    "        print (marks,'-pass')\n",
    "    else:\n",
    "        print (marks,'-good job')"
   ]
  },
  {
   "cell_type": "code",
   "execution_count": 24,
   "id": "bc6c0796",
   "metadata": {},
   "outputs": [
    {
     "name": "stdout",
     "output_type": "stream",
     "text": [
      "student_score\n"
     ]
    }
   ],
   "source": [
    "student_score = [11,22,55,44,66,85,98,25,55,84,65,69]\n",
    "print('student_score')\n",
    "\n",
    "\n"
   ]
  },
  {
   "cell_type": "code",
   "execution_count": null,
   "id": "e9664b38",
   "metadata": {},
   "outputs": [],
   "source": []
  },
  {
   "cell_type": "code",
   "execution_count": null,
   "id": "ab07531f",
   "metadata": {},
   "outputs": [],
   "source": []
  }
 ],
 "metadata": {
  "kernelspec": {
   "display_name": "Python 3 (ipykernel)",
   "language": "python",
   "name": "python3"
  },
  "language_info": {
   "codemirror_mode": {
    "name": "ipython",
    "version": 3
   },
   "file_extension": ".py",
   "mimetype": "text/x-python",
   "name": "python",
   "nbconvert_exporter": "python",
   "pygments_lexer": "ipython3",
   "version": "3.11.4"
  }
 },
 "nbformat": 4,
 "nbformat_minor": 5
}
