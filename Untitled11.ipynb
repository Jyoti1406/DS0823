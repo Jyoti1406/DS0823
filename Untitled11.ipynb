{
 "cells": [
  {
   "cell_type": "code",
   "execution_count": 2,
   "id": "f3352fcd",
   "metadata": {},
   "outputs": [
    {
     "data": {
      "text/plain": [
       "set"
      ]
     },
     "execution_count": 2,
     "metadata": {},
     "output_type": "execute_result"
    }
   ],
   "source": [
    "roll_number = set()\n",
    "type (roll_number)"
   ]
  },
  {
   "cell_type": "code",
   "execution_count": 3,
   "id": "a9bf26b4",
   "metadata": {},
   "outputs": [
    {
     "data": {
      "text/plain": [
       "{1}"
      ]
     },
     "execution_count": 3,
     "metadata": {},
     "output_type": "execute_result"
    }
   ],
   "source": [
    "roll_number .add(1)\n",
    "roll_number"
   ]
  },
  {
   "cell_type": "code",
   "execution_count": 4,
   "id": "7056b420",
   "metadata": {},
   "outputs": [
    {
     "data": {
      "text/plain": [
       "{1, 2}"
      ]
     },
     "execution_count": 4,
     "metadata": {},
     "output_type": "execute_result"
    }
   ],
   "source": [
    "#add a diifferent number\n",
    "roll_number .add(2)\n",
    "roll_number"
   ]
  },
  {
   "cell_type": "code",
   "execution_count": 8,
   "id": "c4dbc004",
   "metadata": {},
   "outputs": [
    {
     "data": {
      "text/plain": [
       "{1, 2, 3, 4, 5, 6, 7, 8, 20, 55, 77, 88, 99}"
      ]
     },
     "execution_count": 8,
     "metadata": {},
     "output_type": "execute_result"
    }
   ],
   "source": [
    "#create a list with repeats\n",
    "item_no = [1,2,3,4,5,6,1,1,2,5,7,77,88,55,4,99,1,1,2,8,7,1,20]\n",
    "\n",
    "#convert into set\n",
    "remove_dup = set(item_no)\n",
    "remove_dup\n",
    "\n"
   ]
  },
  {
   "cell_type": "code",
   "execution_count": 9,
   "id": "c9f8f8ad",
   "metadata": {},
   "outputs": [],
   "source": [
    "#create a list with multiple\n",
    "item_no = [1,'A','B','C',5,6,99,8.5,'ILU']\n"
   ]
  },
  {
   "cell_type": "code",
   "execution_count": 10,
   "id": "f5a991f7",
   "metadata": {},
   "outputs": [
    {
     "name": "stdout",
     "output_type": "stream",
     "text": [
      "[1, 'A', 'B', 'C', 5, 6, 99, 8.5, 'ILU']\n"
     ]
    }
   ],
   "source": [
    "print(item_no)"
   ]
  },
  {
   "cell_type": "code",
   "execution_count": null,
   "id": "9921102a",
   "metadata": {},
   "outputs": [],
   "source": []
  }
 ],
 "metadata": {
  "kernelspec": {
   "display_name": "Python 3 (ipykernel)",
   "language": "python",
   "name": "python3"
  },
  "language_info": {
   "codemirror_mode": {
    "name": "ipython",
    "version": 3
   },
   "file_extension": ".py",
   "mimetype": "text/x-python",
   "name": "python",
   "nbconvert_exporter": "python",
   "pygments_lexer": "ipython3",
   "version": "3.11.4"
  }
 },
 "nbformat": 4,
 "nbformat_minor": 5
}
