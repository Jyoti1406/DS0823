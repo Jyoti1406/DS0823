{
 "cells": [
  {
   "cell_type": "markdown",
   "id": "5dd768cf",
   "metadata": {},
   "source": [
    "# DATA Types/structures\n",
    "\n",
    " #Number\n",
    " #String\n",
    " #list\n",
    " #Set\n",
    " #Dictonary\n"
   ]
  },
  {
   "cell_type": "code",
   "execution_count": 3,
   "id": "c87cc096",
   "metadata": {},
   "outputs": [
    {
     "name": "stdout",
     "output_type": "stream",
     "text": [
      "20\n"
     ]
    }
   ],
   "source": [
    "# a = variable\n",
    "# 20 = data\n",
    "\n",
    "a = 20\n",
    "print(a)"
   ]
  },
  {
   "cell_type": "code",
   "execution_count": 4,
   "id": "561d11ce",
   "metadata": {},
   "outputs": [
    {
     "data": {
      "text/plain": [
       "20"
      ]
     },
     "execution_count": 4,
     "metadata": {},
     "output_type": "execute_result"
    }
   ],
   "source": [
    "a"
   ]
  },
  {
   "cell_type": "code",
   "execution_count": 5,
   "id": "5534eba4",
   "metadata": {},
   "outputs": [
    {
     "data": {
      "text/plain": [
       "int"
      ]
     },
     "execution_count": 5,
     "metadata": {},
     "output_type": "execute_result"
    }
   ],
   "source": [
    "type(a)"
   ]
  },
  {
   "cell_type": "code",
   "execution_count": 6,
   "id": "629a5a23",
   "metadata": {},
   "outputs": [
    {
     "name": "stdout",
     "output_type": "stream",
     "text": [
      "30\n"
     ]
    }
   ],
   "source": [
    "a = 10\n",
    "b = 20\n",
    "c = a+b\n",
    "print(c)"
   ]
  },
  {
   "cell_type": "code",
   "execution_count": 7,
   "id": "dd202511",
   "metadata": {},
   "outputs": [
    {
     "name": "stdout",
     "output_type": "stream",
     "text": [
      "150\n"
     ]
    }
   ],
   "source": [
    "print(c*5)"
   ]
  },
  {
   "cell_type": "code",
   "execution_count": 21,
   "id": "e3633989",
   "metadata": {},
   "outputs": [
    {
     "data": {
      "text/plain": [
       "complex"
      ]
     },
     "execution_count": 21,
     "metadata": {},
     "output_type": "execute_result"
    }
   ],
   "source": [
    " c = 6+5j\n",
    "\n",
    "type(c)"
   ]
  },
  {
   "cell_type": "markdown",
   "id": "2d1c3427",
   "metadata": {},
   "source": [
    "# String"
   ]
  },
  {
   "cell_type": "code",
   "execution_count": 6,
   "id": "17dab088",
   "metadata": {},
   "outputs": [
    {
     "name": "stdout",
     "output_type": "stream",
     "text": [
      "Hello world\n"
     ]
    }
   ],
   "source": [
    "print (\"Hello world\")"
   ]
  },
  {
   "cell_type": "code",
   "execution_count": 13,
   "id": "af4e7e47",
   "metadata": {},
   "outputs": [],
   "source": [
    "first_string = 'Python'\n",
    "second_string = ' It is power full'\n",
    "third_string = ' Language'\n"
   ]
  },
  {
   "cell_type": "code",
   "execution_count": 14,
   "id": "c91d498b",
   "metadata": {},
   "outputs": [
    {
     "data": {
      "text/plain": [
       "str"
      ]
     },
     "execution_count": 14,
     "metadata": {},
     "output_type": "execute_result"
    }
   ],
   "source": [
    "type('first_string')"
   ]
  },
  {
   "cell_type": "code",
   "execution_count": 15,
   "id": "377721bc",
   "metadata": {},
   "outputs": [
    {
     "name": "stdout",
     "output_type": "stream",
     "text": [
      "Python It is power full Language\n"
     ]
    }
   ],
   "source": [
    "print (first_string + second_string + third_string)"
   ]
  },
  {
   "cell_type": "code",
   "execution_count": 16,
   "id": "63c02daa",
   "metadata": {},
   "outputs": [
    {
     "name": "stdout",
     "output_type": "stream",
     "text": [
      "wow Paython is easy\n"
     ]
    }
   ],
   "source": [
    "print( 'wow' +  ' Paython is' + ' easy' )\n"
   ]
  },
  {
   "cell_type": "code",
   "execution_count": 19,
   "id": "419accd4",
   "metadata": {},
   "outputs": [],
   "source": [
    "total_string = first_string + second_string + third_string"
   ]
  },
  {
   "cell_type": "code",
   "execution_count": 20,
   "id": "0c108e20",
   "metadata": {},
   "outputs": [
    {
     "name": "stdout",
     "output_type": "stream",
     "text": [
      "Python It is power full Language\n"
     ]
    }
   ],
   "source": [
    "print(total_string)"
   ]
  },
  {
   "cell_type": "markdown",
   "id": "dab1dc14",
   "metadata": {},
   "source": [
    "# Other operation on string\n"
   ]
  },
  {
   "cell_type": "code",
   "execution_count": 23,
   "id": "9d6c4ee4",
   "metadata": {},
   "outputs": [
    {
     "name": "stdout",
     "output_type": "stream",
     "text": [
      "DayDayDayDayDay\n"
     ]
    }
   ],
   "source": [
    "print ( 'Day'  *  5 )"
   ]
  },
  {
   "cell_type": "code",
   "execution_count": 29,
   "id": "73520c93",
   "metadata": {},
   "outputs": [
    {
     "name": "stdout",
     "output_type": "stream",
     "text": [
      "****************************************************************************************************\n",
      "                      wow paython \n",
      "****************************************************************************************************\n"
     ]
    }
   ],
   "source": [
    "print ('*'  *  100)\n",
    "print('                      wow paython ')\n",
    "print('*'  *  100)"
   ]
  },
  {
   "cell_type": "code",
   "execution_count": 36,
   "id": "a01a5efc",
   "metadata": {},
   "outputs": [
    {
     "ename": "TypeError",
     "evalue": "can only concatenate str (not \"int\") to str",
     "output_type": "error",
     "traceback": [
      "\u001b[1;31m---------------------------------------------------------------------------\u001b[0m",
      "\u001b[1;31mTypeError\u001b[0m                                 Traceback (most recent call last)",
      "Cell \u001b[1;32mIn[36], line 3\u001b[0m\n\u001b[0;32m      1\u001b[0m text \u001b[38;5;241m=\u001b[39m \u001b[38;5;124m'\u001b[39m\u001b[38;5;124mDay \u001b[39m\u001b[38;5;124m'\u001b[39m\n\u001b[0;32m      2\u001b[0m num \u001b[38;5;241m=\u001b[39m \u001b[38;5;241m2\u001b[39m\n\u001b[1;32m----> 3\u001b[0m \u001b[38;5;28mprint\u001b[39m ( text \u001b[38;5;241m+\u001b[39m num )\n",
      "\u001b[1;31mTypeError\u001b[0m: can only concatenate str (not \"int\") to str"
     ]
    }
   ],
   "source": [
    "text = 'Day '\n",
    "num = 2\n",
    "print ( text + num )"
   ]
  },
  {
   "cell_type": "code",
   "execution_count": 37,
   "id": "9473070a",
   "metadata": {},
   "outputs": [
    {
     "data": {
      "text/plain": [
       "'Day 2'"
      ]
     },
     "execution_count": 37,
     "metadata": {},
     "output_type": "execute_result"
    }
   ],
   "source": [
    "s1 = text + str(num)\n",
    "s1"
   ]
  },
  {
   "cell_type": "code",
   "execution_count": 39,
   "id": "dbed2784",
   "metadata": {},
   "outputs": [
    {
     "data": {
      "text/plain": [
       "'Day 2'"
      ]
     },
     "execution_count": 39,
     "metadata": {},
     "output_type": "execute_result"
    }
   ],
   "source": [
    "s2 = f'{text}{num}'\n",
    "s2"
   ]
  },
  {
   "cell_type": "code",
   "execution_count": null,
   "id": "313be041",
   "metadata": {},
   "outputs": [],
   "source": []
  }
 ],
 "metadata": {
  "kernelspec": {
   "display_name": "Python 3 (ipykernel)",
   "language": "python",
   "name": "python3"
  },
  "language_info": {
   "codemirror_mode": {
    "name": "ipython",
    "version": 3
   },
   "file_extension": ".py",
   "mimetype": "text/x-python",
   "name": "python",
   "nbconvert_exporter": "python",
   "pygments_lexer": "ipython3",
   "version": "3.11.4"
  }
 },
 "nbformat": 4,
 "nbformat_minor": 5
}
