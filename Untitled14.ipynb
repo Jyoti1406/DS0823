{
 "cells": [
  {
   "cell_type": "code",
   "execution_count": 6,
   "id": "cac3f69f",
   "metadata": {},
   "outputs": [
    {
     "data": {
      "text/plain": [
       "{'key1:value1', 'key2:value2'}"
      ]
     },
     "execution_count": 6,
     "metadata": {},
     "output_type": "execute_result"
    }
   ],
   "source": [
    "my_dict = {'key1:value1','key2:value2'}\n",
    "my_dict"
   ]
  },
  {
   "cell_type": "code",
   "execution_count": 23,
   "id": "7dff70a3",
   "metadata": {},
   "outputs": [
    {
     "data": {
      "text/plain": [
       "{'roll_number': 1, 'marks': [33, 44, 55], 'subject': ['phy', 'CHEMN', 'math']}"
      ]
     },
     "execution_count": 23,
     "metadata": {},
     "output_type": "execute_result"
    }
   ],
   "source": [
    "my_dict = {'roll_number':1,'marks':[33,44,55],'subject':['phy','CHEMN','math']}\n",
    "my_dict"
   ]
  },
  {
   "cell_type": "code",
   "execution_count": 21,
   "id": "1b3d0b2b",
   "metadata": {},
   "outputs": [
    {
     "data": {
      "text/plain": [
       "['phy', 'chem', 'math']"
      ]
     },
     "execution_count": 21,
     "metadata": {},
     "output_type": "execute_result"
    }
   ],
   "source": [
    "my_dict['subject']"
   ]
  },
  {
   "cell_type": "code",
   "execution_count": 24,
   "id": "f4c5d9e5",
   "metadata": {},
   "outputs": [
    {
     "data": {
      "text/plain": [
       "'chemn'"
      ]
     },
     "execution_count": 24,
     "metadata": {},
     "output_type": "execute_result"
    }
   ],
   "source": [
    "my_dict['subject'][1].lower()"
   ]
  },
  {
   "cell_type": "code",
   "execution_count": null,
   "id": "f3df064f",
   "metadata": {},
   "outputs": [],
   "source": []
  }
 ],
 "metadata": {
  "kernelspec": {
   "display_name": "Python 3 (ipykernel)",
   "language": "python",
   "name": "python3"
  },
  "language_info": {
   "codemirror_mode": {
    "name": "ipython",
    "version": 3
   },
   "file_extension": ".py",
   "mimetype": "text/x-python",
   "name": "python",
   "nbconvert_exporter": "python",
   "pygments_lexer": "ipython3",
   "version": "3.11.4"
  }
 },
 "nbformat": 4,
 "nbformat_minor": 5
}
